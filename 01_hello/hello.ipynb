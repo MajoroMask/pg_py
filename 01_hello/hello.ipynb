{
    "cells": [{
        "cell_type":
        "code",
        "execution_count":
        3,
        "metadata": {},
        "outputs": [{
            "name": "stdout",
            "output_type": "stream",
            "text": ["Xit happens, yet life goes on.\n", "10\n"]
        }],
        "source": [
            "\n", "import argparse\n", "\n",
            "print(\"Xit happens, yet life goes on.\")\n", "\n", "x = 10\n",
            "print(x)\n"
        ]
    }],
    "metadata": {
        "kernelspec": {
            "display_name": "Python 3.9.12 ('.venv': venv)",
            "language": "python",
            "name": "python3"
        },
        "language_info": {
            "codemirror_mode": {
                "name": "ipython",
                "version": 3
            },
            "file_extension": ".py",
            "mimetype": "text/x-python",
            "name": "python",
            "nbconvert_exporter": "python",
            "pygments_lexer": "ipython3",
            "version": "3.9.12"
        },
        "orig_nbformat": 4,
        "vscode": {
            "interpreter": {
                "hash":
                "2b0805036c32b75bf1896433922ab4c1070806dab7bf538775a8894a94876259"
            }
        }
    },
    "nbformat":
    4,
    "nbformat_minor":
    2
}
